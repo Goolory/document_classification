{
 "cells": [
  {
   "cell_type": "markdown",
   "metadata": {},
   "source": [
    "# 机器学习纳米学位\n",
    "## 毕业项目: 自然语言处理 文档归类——第一部分：TFIDF 实现"
   ]
  },
  {
   "cell_type": "markdown",
   "metadata": {},
   "source": [
    "## 描述\n",
    "\n",
    "[自然语言处理](https://en.wikipedia.org/wiki/Natural_language_processing)（后面简称NLP）是机器学习技术重要应用范畴之一，从手机上的智能语音助理如Siri，到移动、联通的自动语音服务，再到具有理解、推理能力的[IBM Waston](http://www.ibm.com/watson/)，最近亚马逊也相应推出了可提供高级语音识别及自然语言理解功能的[Lex](https://aws.amazon.com/cn/lex/)，这些都是自然语言处理技术应用前沿产品实例。 试想，如果有朝一日人类完全解决自然语言处理瓶颈，实现计算机对自然语言完全理解、分析，那么出现在科幻片如《机械姬》、《西部世界》里面的机器人与人类无障碍沟通及情感交流的情景很可能出现。\n",
    "\n",
    "​但是现实中自然语言处理技术层面还面临诸多挑战，其中之一就是词、语句以及文章的表达。在日常生活中，最常见的词语表述方式比如”cat“、”dog“，这些都是利用符号表示意思。统计语言处理里面，比较容易利用符号来描述概率模型，比如[ngram模型](http://blog.csdn.net/ahmanz/article/details/51273500) ，计算两个单词或者多个单词同时出现的概率，但是这些符号难以直接表示词与词之间的关联，也难以直接作为机器学习模型输入向量。对句子或者文章的表示，可以采用[词袋子模型](http://www.cnblogs.com/platero/archive/2012/12/03/2800251.html)，即将段落或文章表示成一组单词，例如两个句子：”She loves cats.“、”He loves cats too.“ 我们可以构建一个词频字典：{\"She\": 1, \"He\": 1, \"loves\": 2 \"cats\": 2, \"too\": 1}。根据这个字典, 我们能将上述两句话重新表达为下述两个向量: [1, 0, 1, 1, 0]和[0, 1, 1, 1, 1]，每1维代表对应单词的频率。\n",
    "\n",
    "​近几年来，借助深度学习概念和性能强劲的硬件平台，Geofrey Hinton, Tomas Mikolov, Richard Socher等学者深入开展了针对词向量的研究，进行了大量鼓舞人心的实验，将自然语言处理推向了新的高度。以词向量为基础，可以方便引入机器学习模型对文本进行分类、情感分析、预测、自动翻译等。最简单的词向量就是独热编码(one-hot encoder)，比如有三个单词“man\"、”husband“、”dog“，将之分别表示为[0,0,1]，[0,1,0]，[1,0,0]，这些词向量可以作为机器学习模型的输入数值向量，但是它们依然难以表达关联性，而且当词库单词量庞大时，独热编码的维度也会十分巨大，给计算和存储带来不少问题。Mikolov、Socher等人提出了[Word2Vec](http://papers.nips.cc/paper/5021-distributed-representations-of-words-and-phrases-and-their-compositionality.pdf)、[GloVec](http://nlp.stanford.edu/pubs/glove.pdf)等词向量模型，能够比较好的解决这个问题，即用维数较少的向量表达词以及词之间的关联性。关于这些词向量模型的具体原理，可以阅读他们所发表的论文，主要是英文，中文网站上也出现了不少精彩的翻译和解读，可以参考某些关于自然语言处理的[中文博客](http://www.52nlp.cn/%e6%96%af%e5%9d%a6%e7%a6%8f%e5%a4%a7%e5%ad%a6%e6%b7%b1%e5%ba%a6%e5%ad%a6%e4%b9%a0%e4%b8%8e%e8%87%aa%e7%84%b6%e8%af%ad%e8%a8%80%e5%a4%84%e7%90%86%e7%ac%ac%e4%ba%8c%e8%ae%b2%e8%af%8d%e5%90%91%e9%87%8f)。\n",
    "\n",
    "​类似的，句子、段落以及文章也可以引入向量的概念进行表达，称之为Doc2Vec，有兴趣的可以拜读Mikolov的论文[《Distributed Representations of Sentences and Documents》](https://arxiv.org/pdf/1405.4053v2.pdf)。\n",
    "\n",
    "​本项目目的就是利用上述自然语言处理技术结合所学机器学习知识对文档进行准确分类。\n",
    "\n",
    "## 数据\n",
    "\n",
    "​分类文本数据可以使用经典的20类新闻包，里面大约有20000条新闻，比较均衡地分成了20类，是比较常用的文本数据之一。既可以从[官方网站](http://www.qwone.com/~jason/20Newsgroups/)下载，也可利用*sklearn*工具包下载，具体请参见[说明文档](http://scikit-learn.org/stable/datasets/twenty_newsgroups.html)。\n",
    "\n",
    "​此外，词向量的训练也需要大量数据，如果感觉20类新闻数据样本量不足以训练出较好的词向量模型，可以采用Mikolov曾经使用过的[text8](http://mattmahoney.net/dc/text8.zip)数据包进行训练。\n",
    "\n",
    "## 任务：\n",
    "\n",
    "- （1）探索文本表示的方式\n",
    "\n",
    "  - 使用词袋子模型来表示每篇文档，常见的一种思路是首先将文本进行分词，也就是将一个文本文件分成单词的集合，建立词典，每篇文档表示成特征词的频率向量或者加权词频[TF-IDF](http://baike.baidu.com/link?url=toXJqDyZ1smDK2HpzusBzUnWX6YlKffU9bigEa5DHEOHmF0pL6XsDlhbzF10sijRGPeeml5Ze3cOtGAIHLXT0_)向量，这样可以得到熟悉的特征表。接下来，就可以方便利用机器学习分类模型进行训练。如下面所示意：\n",
    "\n",
    "    ```\n",
    "    \t                   She\tHe\tloves cats dogs\t too\n",
    "    \"She loves cats.\"\t    1\t 0\t  1\t   1\t0\t 0\n",
    "    \"He loves cats too.\"\t0\t 1\t  1\t   1\t0\t 1\n",
    "    \"She loves dogs.\"\t    1\t 0\t  1\t   0\t1\t 0\n",
    "\n",
    "    ```\n",
    "  - 利用Word2Vec方式即词向量模型表示每篇文档，这里面包含两部分主要工作：\n",
    "\n",
    "     - 利用文本数据对词向量进行训练，将每个单词表示成向量形式。词向量训练后需要进行简单评测，比如检验一些单词之间相似性是否符合逻辑，下图是我在text8数据上训练的词向量模型，其中\"school\"、“university\"、”college“三个意义比较类似的词基本上聚在一起。![词向量示意图](https://raw.githubusercontent.com/nd009/capstone/master/document_classification/w2v.png)\n",
    "\n",
    "     - 探讨怎样用文档中每个词的向量来表达整个文档。学有余力的同学还可以尝试Dov2Vec的模型来直接训练表示每篇文档。\n",
    "\n",
    "- （2）分别在词袋子、词向量表达基础上采用你认为适当的模型对文本分类，优化模型并分析其稳健性。\n",
    "\n",
    "\n",
    "\n",
    "## 模型\n",
    "\n",
    "​文本表示模型在前面已经谈到，这里不作赘述。 注意文本预处理方式可能对最终结果有影响，对于某些语言比如英文，是否要考虑区分单词大小写、是否要对同一词不同形式（如单复数）进行统一、是否要保留标点符号？这些讨论都应该反映在报告中。\n",
    "\n",
    "​下列分类模型可供参考：\n",
    "\n",
    "- 决策树模型\n",
    "- 支持矢量机(SVM)模型\n",
    "- 朴素贝叶斯模型\n",
    "- 神经网络模型\n",
    "\n",
    "## 要求\n",
    "\n",
    "具体项目报告要求请参见优达学城毕业项目[模版](https://github.com/nd009/capstone/blob/master/capstone_report_template.md)和[要求](https://review.udacity.com/#!/rubrics/273/view)。\n",
    "\n",
    "## 工具\n",
    "\n",
    "建议使用的工具包：\n",
    "\n",
    "- [gensim](http://radimrehurek.com/gensim/)，可以方便快捷地训练Word2Vec词向量。\n",
    "- [GloVec](https://github.com/maciejkula/glove-python)，可以用来训练GloVec词向量。\n",
    "- [sklearn](http://scikit-learn.org/)，功能强大的机器学习包，包含有常用的分类工具。\n",
    "- [tensorflow](http://www.tensorfly.cn/)，可以逐步定义词向量训练过程，也可以建立深度学习建模。\n",
    "\n",
    "# 参考文献\n",
    "\n",
    "1. 维基百科，自然语言处理，https://en.wikipedia.org/wiki/Natural_language_processing\n",
    "2. 我爱自然语言处理，中英文维基百科语料上的Word2Vec实验，http://www.52nlp.cn/tag/word2vec\n",
    "3. 优达学城，机器学习毕业项目说明，https://github.com/nd009/machine-learning\n",
    "4. 牛津大学，自然语言处理和深度学习课程， https://github.com/oxford-cs-deepnlp-2017/lectures\n",
    "5. 斯坦福大学，自然语言处理和深度学习课程，http://cs224d.stanford.edu/\n",
    "6. 哥伦比亚大学，自然语言处理课程，http://www.cs.columbia.edu/~mcollins/\n"
   ]
  },
  {
   "cell_type": "markdown",
   "metadata": {},
   "source": [
    "## ⚠️注意事项：\n",
    "- 运行环境为 Python-3\n",
    "- 文本预处理部分如需手动导入 NLTK 路径，需要将 nltk.data.path.append('nltk_data') 路径修改为本地路径，大小 10 MB，下载地址：[百度云](https://pan.baidu.com/s/1Tp-NsX9vWDgBVp14P3jNxw)"
   ]
  },
  {
   "cell_type": "markdown",
   "metadata": {},
   "source": [
    "---"
   ]
  },
  {
   "cell_type": "markdown",
   "metadata": {},
   "source": [
    "# 一、数据"
   ]
  },
  {
   "cell_type": "markdown",
   "metadata": {},
   "source": [
    "## 1.1 导入 20 Newsgroups 数据"
   ]
  },
  {
   "cell_type": "code",
   "execution_count": 1,
   "metadata": {},
   "outputs": [
    {
     "name": "stdout",
     "output_type": "stream",
     "text": [
      "['alt.atheism',\n",
      " 'comp.graphics',\n",
      " 'comp.os.ms-windows.misc',\n",
      " 'comp.sys.ibm.pc.hardware',\n",
      " 'comp.sys.mac.hardware',\n",
      " 'comp.windows.x',\n",
      " 'misc.forsale',\n",
      " 'rec.autos',\n",
      " 'rec.motorcycles',\n",
      " 'rec.sport.baseball',\n",
      " 'rec.sport.hockey',\n",
      " 'sci.crypt',\n",
      " 'sci.electronics',\n",
      " 'sci.med',\n",
      " 'sci.space',\n",
      " 'soc.religion.christian',\n",
      " 'talk.politics.guns',\n",
      " 'talk.politics.mideast',\n",
      " 'talk.politics.misc',\n",
      " 'talk.religion.misc']\n"
     ]
    }
   ],
   "source": [
    "import time\n",
    "total_cost_time_start = time.time()\n",
    "\n",
    "import ssl\n",
    "ssl._create_default_https_context = ssl._create_unverified_context\n",
    "\n",
    "from sklearn.datasets import fetch_20newsgroups\n",
    "newsgroups = fetch_20newsgroups(subset='all', shuffle=True, random_state=233)\n",
    "\n",
    "from pprint import pprint\n",
    "pprint(list(newsgroups.target_names))"
   ]
  },
  {
   "cell_type": "code",
   "execution_count": 2,
   "metadata": {
    "scrolled": false
   },
   "outputs": [
    {
     "data": {
      "text/html": [
       "<script>requirejs.config({paths: { 'plotly': ['https://cdn.plot.ly/plotly-latest.min']},});if(!window.Plotly) {{require(['plotly'],function(plotly) {window.Plotly=plotly;});}}</script>"
      ],
      "text/vnd.plotly.v1+html": [
       "<script>requirejs.config({paths: { 'plotly': ['https://cdn.plot.ly/plotly-latest.min']},});if(!window.Plotly) {{require(['plotly'],function(plotly) {window.Plotly=plotly;});}}</script>"
      ]
     },
     "metadata": {},
     "output_type": "display_data"
    },
    {
     "data": {
      "application/vnd.plotly.v1+json": {
       "data": [
        {
         "type": "bar",
         "x": [
          "alt.atheism",
          "comp.graphics",
          "comp.os.ms-windows.misc",
          "comp.sys.ibm.pc.hardware",
          "comp.sys.mac.hardware",
          "comp.windows.x",
          "misc.forsale",
          "rec.autos",
          "rec.motorcycles",
          "rec.sport.baseball",
          "rec.sport.hockey",
          "sci.crypt",
          "sci.electronics",
          "sci.med",
          "sci.space",
          "soc.religion.christian",
          "talk.politics.guns",
          "talk.politics.mideast",
          "talk.politics.misc",
          "talk.religion.misc"
         ],
         "y": [
          799,
          973,
          985,
          982,
          963,
          988,
          975,
          990,
          996,
          994,
          999,
          991,
          984,
          990,
          987,
          997,
          910,
          940,
          775,
          628
         ]
        }
       ],
       "layout": {}
      },
      "text/html": [
       "<div id=\"a26cf9ac-fa72-436f-9365-aab3676fa926\" style=\"height: 525px; width: 100%;\" class=\"plotly-graph-div\"></div><script type=\"text/javascript\">require([\"plotly\"], function(Plotly) { window.PLOTLYENV=window.PLOTLYENV || {};window.PLOTLYENV.BASE_URL=\"https://plot.ly\";Plotly.newPlot(\"a26cf9ac-fa72-436f-9365-aab3676fa926\", [{\"type\": \"bar\", \"x\": [\"alt.atheism\", \"comp.graphics\", \"comp.os.ms-windows.misc\", \"comp.sys.ibm.pc.hardware\", \"comp.sys.mac.hardware\", \"comp.windows.x\", \"misc.forsale\", \"rec.autos\", \"rec.motorcycles\", \"rec.sport.baseball\", \"rec.sport.hockey\", \"sci.crypt\", \"sci.electronics\", \"sci.med\", \"sci.space\", \"soc.religion.christian\", \"talk.politics.guns\", \"talk.politics.mideast\", \"talk.politics.misc\", \"talk.religion.misc\"], \"y\": [799, 973, 985, 982, 963, 988, 975, 990, 996, 994, 999, 991, 984, 990, 987, 997, 910, 940, 775, 628]}], {}, {\"showLink\": true, \"linkText\": \"Export to plot.ly\"})});</script>"
      ],
      "text/vnd.plotly.v1+html": [
       "<div id=\"a26cf9ac-fa72-436f-9365-aab3676fa926\" style=\"height: 525px; width: 100%;\" class=\"plotly-graph-div\"></div><script type=\"text/javascript\">require([\"plotly\"], function(Plotly) { window.PLOTLYENV=window.PLOTLYENV || {};window.PLOTLYENV.BASE_URL=\"https://plot.ly\";Plotly.newPlot(\"a26cf9ac-fa72-436f-9365-aab3676fa926\", [{\"type\": \"bar\", \"x\": [\"alt.atheism\", \"comp.graphics\", \"comp.os.ms-windows.misc\", \"comp.sys.ibm.pc.hardware\", \"comp.sys.mac.hardware\", \"comp.windows.x\", \"misc.forsale\", \"rec.autos\", \"rec.motorcycles\", \"rec.sport.baseball\", \"rec.sport.hockey\", \"sci.crypt\", \"sci.electronics\", \"sci.med\", \"sci.space\", \"soc.religion.christian\", \"talk.politics.guns\", \"talk.politics.mideast\", \"talk.politics.misc\", \"talk.religion.misc\"], \"y\": [799, 973, 985, 982, 963, 988, 975, 990, 996, 994, 999, 991, 984, 990, 987, 997, 910, 940, 775, 628]}], {}, {\"showLink\": true, \"linkText\": \"Export to plot.ly\"})});</script>"
      ]
     },
     "metadata": {},
     "output_type": "display_data"
    }
   ],
   "source": [
    "import plotly.offline as of\n",
    "from plotly.graph_objs import *\n",
    "of.offline.init_notebook_mode(connected=True)\n",
    "\n",
    "categories=['alt.atheism', 'comp.graphics', 'comp.os.ms-windows.misc', 'comp.sys.ibm.pc.hardware',\n",
    "            'comp.sys.mac.hardware', 'comp.windows.x', 'misc.forsale', 'rec.autos', 'rec.motorcycles',\n",
    "            'rec.sport.baseball', 'rec.sport.hockey', 'sci.crypt', 'sci.electronics', 'sci.med',\n",
    "            'sci.space', 'soc.religion.christian', 'talk.politics.guns', 'talk.politics.mideast',\n",
    "            'talk.politics.misc', 'talk.religion.misc']\n",
    "\n",
    "category_numbers=[len(fetch_20newsgroups(subset='all',categories=['alt.atheism']).data),\n",
    "                len(fetch_20newsgroups(subset='all',categories=['comp.graphics']).data),\n",
    "                len(fetch_20newsgroups(subset='all',categories=['comp.os.ms-windows.misc']).data),\n",
    "                len(fetch_20newsgroups(subset='all',categories=['comp.sys.ibm.pc.hardware']).data),\n",
    "                len(fetch_20newsgroups(subset='all',categories=['comp.sys.mac.hardware']).data),\n",
    "                len(fetch_20newsgroups(subset='all',categories=['comp.windows.x']).data),\n",
    "                len(fetch_20newsgroups(subset='all',categories=['misc.forsale']).data),\n",
    "                len(fetch_20newsgroups(subset='all',categories=['rec.autos']).data),\n",
    "                len(fetch_20newsgroups(subset='all',categories=['rec.motorcycles']).data),\n",
    "                len(fetch_20newsgroups(subset='all',categories=['rec.sport.baseball']).data),\n",
    "                len(fetch_20newsgroups(subset='all',categories=['rec.sport.hockey']).data),\n",
    "                len(fetch_20newsgroups(subset='all',categories=['sci.crypt']).data),\n",
    "                len(fetch_20newsgroups(subset='all',categories=['sci.electronics']).data),\n",
    "                len(fetch_20newsgroups(subset='all',categories=['sci.med']).data),\n",
    "                len(fetch_20newsgroups(subset='all',categories=['sci.space']).data),\n",
    "                len(fetch_20newsgroups(subset='all',categories=['soc.religion.christian']).data),\n",
    "                len(fetch_20newsgroups(subset='all',categories=['talk.politics.guns']).data),\n",
    "                len(fetch_20newsgroups(subset='all',categories=['talk.politics.mideast']).data),\n",
    "                len(fetch_20newsgroups(subset='all',categories=['talk.politics.misc']).data),\n",
    "                len(fetch_20newsgroups(subset='all',categories=['talk.religion.misc']).data)]\n",
    "\n",
    "data = [Bar(x=categories,\n",
    "            y=category_numbers)]\n",
    "\n",
    "of.iplot(data)"
   ]
  },
  {
   "cell_type": "code",
   "execution_count": 3,
   "metadata": {},
   "outputs": [
    {
     "data": {
      "application/vnd.plotly.v1+json": {
       "data": [
        {
         "type": "bar",
         "x": [
          "alt.atheism",
          "comp.graphics",
          "comp.os.ms-windows.misc",
          "comp.sys.ibm.pc.hardware",
          "comp.sys.mac.hardware",
          "comp.windows.x",
          "misc.forsale",
          "rec.autos",
          "rec.motorcycles",
          "rec.sport.baseball",
          "rec.sport.hockey",
          "sci.crypt",
          "sci.electronics",
          "sci.med",
          "sci.space",
          "soc.religion.christian",
          "talk.politics.guns",
          "talk.politics.mideast",
          "talk.politics.misc",
          "talk.religion.misc"
         ],
         "y": [
          51.968710888610765,
          46.431654676258994,
          52.88223350253807,
          33.64765784114053,
          30.85877466251298,
          53.21862348178138,
          33.37538461538462,
          35.057575757575755,
          32.77710843373494,
          36.88732394366197,
          45.508508508508505,
          50.96670030272452,
          33.08130081300813,
          45.35454545454545,
          45.504559270516715,
          51.00702106318957,
          50.74285714285714,
          69.20106382978723,
          64.35741935483871,
          51.92197452229299
         ]
        }
       ],
       "layout": {}
      },
      "text/html": [
       "<div id=\"31bc7ebf-0c06-450e-af31-8e69c9d61e37\" style=\"height: 525px; width: 100%;\" class=\"plotly-graph-div\"></div><script type=\"text/javascript\">require([\"plotly\"], function(Plotly) { window.PLOTLYENV=window.PLOTLYENV || {};window.PLOTLYENV.BASE_URL=\"https://plot.ly\";Plotly.newPlot(\"31bc7ebf-0c06-450e-af31-8e69c9d61e37\", [{\"type\": \"bar\", \"x\": [\"alt.atheism\", \"comp.graphics\", \"comp.os.ms-windows.misc\", \"comp.sys.ibm.pc.hardware\", \"comp.sys.mac.hardware\", \"comp.windows.x\", \"misc.forsale\", \"rec.autos\", \"rec.motorcycles\", \"rec.sport.baseball\", \"rec.sport.hockey\", \"sci.crypt\", \"sci.electronics\", \"sci.med\", \"sci.space\", \"soc.religion.christian\", \"talk.politics.guns\", \"talk.politics.mideast\", \"talk.politics.misc\", \"talk.religion.misc\"], \"y\": [51.968710888610765, 46.431654676258994, 52.88223350253807, 33.64765784114053, 30.85877466251298, 53.21862348178138, 33.37538461538462, 35.057575757575755, 32.77710843373494, 36.88732394366197, 45.508508508508505, 50.96670030272452, 33.08130081300813, 45.35454545454545, 45.504559270516715, 51.00702106318957, 50.74285714285714, 69.20106382978723, 64.35741935483871, 51.92197452229299]}], {}, {\"showLink\": true, \"linkText\": \"Export to plot.ly\"})});</script>"
      ],
      "text/vnd.plotly.v1+html": [
       "<div id=\"31bc7ebf-0c06-450e-af31-8e69c9d61e37\" style=\"height: 525px; width: 100%;\" class=\"plotly-graph-div\"></div><script type=\"text/javascript\">require([\"plotly\"], function(Plotly) { window.PLOTLYENV=window.PLOTLYENV || {};window.PLOTLYENV.BASE_URL=\"https://plot.ly\";Plotly.newPlot(\"31bc7ebf-0c06-450e-af31-8e69c9d61e37\", [{\"type\": \"bar\", \"x\": [\"alt.atheism\", \"comp.graphics\", \"comp.os.ms-windows.misc\", \"comp.sys.ibm.pc.hardware\", \"comp.sys.mac.hardware\", \"comp.windows.x\", \"misc.forsale\", \"rec.autos\", \"rec.motorcycles\", \"rec.sport.baseball\", \"rec.sport.hockey\", \"sci.crypt\", \"sci.electronics\", \"sci.med\", \"sci.space\", \"soc.religion.christian\", \"talk.politics.guns\", \"talk.politics.mideast\", \"talk.politics.misc\", \"talk.religion.misc\"], \"y\": [51.968710888610765, 46.431654676258994, 52.88223350253807, 33.64765784114053, 30.85877466251298, 53.21862348178138, 33.37538461538462, 35.057575757575755, 32.77710843373494, 36.88732394366197, 45.508508508508505, 50.96670030272452, 33.08130081300813, 45.35454545454545, 45.504559270516715, 51.00702106318957, 50.74285714285714, 69.20106382978723, 64.35741935483871, 51.92197452229299]}], {}, {\"showLink\": true, \"linkText\": \"Export to plot.ly\"})});</script>"
      ]
     },
     "metadata": {},
     "output_type": "display_data"
    }
   ],
   "source": [
    "# 计算每个类别的平均行数\n",
    "def cal_lines_numbers_per_news(category):\n",
    "    lines_number = 0\n",
    "    i = 0\n",
    "    length_of_cat = len(category)\n",
    "    while i < length_of_cat:\n",
    "        for word in category[i].split(\"\\n\"):\n",
    "            lines_number += 1\n",
    "        i += 1\n",
    "    result = lines_number / length_of_cat\n",
    "    return result\n",
    "\n",
    "lines_numbers_per_news=[cal_lines_numbers_per_news(fetch_20newsgroups(subset='all',categories=['alt.atheism']).data),\n",
    "                cal_lines_numbers_per_news(fetch_20newsgroups(subset='all',categories=['comp.graphics']).data),\n",
    "                cal_lines_numbers_per_news(fetch_20newsgroups(subset='all',categories=['comp.os.ms-windows.misc']).data),\n",
    "                cal_lines_numbers_per_news(fetch_20newsgroups(subset='all',categories=['comp.sys.ibm.pc.hardware']).data),\n",
    "                cal_lines_numbers_per_news(fetch_20newsgroups(subset='all',categories=['comp.sys.mac.hardware']).data),\n",
    "                cal_lines_numbers_per_news(fetch_20newsgroups(subset='all',categories=['comp.windows.x']).data),\n",
    "                cal_lines_numbers_per_news(fetch_20newsgroups(subset='all',categories=['misc.forsale']).data),\n",
    "                cal_lines_numbers_per_news(fetch_20newsgroups(subset='all',categories=['rec.autos']).data),\n",
    "                cal_lines_numbers_per_news(fetch_20newsgroups(subset='all',categories=['rec.motorcycles']).data),\n",
    "                cal_lines_numbers_per_news(fetch_20newsgroups(subset='all',categories=['rec.sport.baseball']).data),\n",
    "                cal_lines_numbers_per_news(fetch_20newsgroups(subset='all',categories=['rec.sport.hockey']).data),\n",
    "                cal_lines_numbers_per_news(fetch_20newsgroups(subset='all',categories=['sci.crypt']).data),\n",
    "                cal_lines_numbers_per_news(fetch_20newsgroups(subset='all',categories=['sci.electronics']).data),\n",
    "                cal_lines_numbers_per_news(fetch_20newsgroups(subset='all',categories=['sci.med']).data),\n",
    "                cal_lines_numbers_per_news(fetch_20newsgroups(subset='all',categories=['sci.space']).data),\n",
    "                cal_lines_numbers_per_news(fetch_20newsgroups(subset='all',categories=['soc.religion.christian']).data),\n",
    "                cal_lines_numbers_per_news(fetch_20newsgroups(subset='all',categories=['talk.politics.guns']).data),\n",
    "                cal_lines_numbers_per_news(fetch_20newsgroups(subset='all',categories=['talk.politics.mideast']).data),\n",
    "                cal_lines_numbers_per_news(fetch_20newsgroups(subset='all',categories=['talk.politics.misc']).data),\n",
    "                cal_lines_numbers_per_news(fetch_20newsgroups(subset='all',categories=['talk.religion.misc']).data)]\n",
    "\n",
    "data = [Bar(x=categories,\n",
    "            y=lines_numbers_per_news)]\n",
    "\n",
    "of.iplot(data)"
   ]
  },
  {
   "cell_type": "code",
   "execution_count": 4,
   "metadata": {},
   "outputs": [
    {
     "data": {
      "application/vnd.plotly.v1+json": {
       "data": [
        {
         "type": "bar",
         "x": [
          "alt.atheism",
          "comp.graphics",
          "comp.os.ms-windows.misc",
          "comp.sys.ibm.pc.hardware",
          "comp.sys.mac.hardware",
          "comp.windows.x",
          "misc.forsale",
          "rec.autos",
          "rec.motorcycles",
          "rec.sport.baseball",
          "rec.sport.hockey",
          "sci.crypt",
          "sci.electronics",
          "sci.med",
          "sci.space",
          "soc.religion.christian",
          "talk.politics.guns",
          "talk.politics.mideast",
          "talk.politics.misc",
          "talk.religion.misc"
         ],
         "y": [
          363.0162703379224,
          300.551901336074,
          221.33604060913706,
          229.44602851323828,
          196.53582554517135,
          334.36538461538464,
          200.3825641025641,
          234.72424242424242,
          222.98694779116465,
          256.6478873239437,
          383.58758758758756,
          353.81029263370334,
          229.70426829268294,
          344.0656565656566,
          331.2016210739615,
          401.271815446339,
          351.83406593406596,
          548.3989361702128,
          489.8593548387097,
          388.6751592356688
         ]
        }
       ],
       "layout": {}
      },
      "text/html": [
       "<div id=\"8afd106a-f2fd-47cb-84ee-bf503b4212de\" style=\"height: 525px; width: 100%;\" class=\"plotly-graph-div\"></div><script type=\"text/javascript\">require([\"plotly\"], function(Plotly) { window.PLOTLYENV=window.PLOTLYENV || {};window.PLOTLYENV.BASE_URL=\"https://plot.ly\";Plotly.newPlot(\"8afd106a-f2fd-47cb-84ee-bf503b4212de\", [{\"type\": \"bar\", \"x\": [\"alt.atheism\", \"comp.graphics\", \"comp.os.ms-windows.misc\", \"comp.sys.ibm.pc.hardware\", \"comp.sys.mac.hardware\", \"comp.windows.x\", \"misc.forsale\", \"rec.autos\", \"rec.motorcycles\", \"rec.sport.baseball\", \"rec.sport.hockey\", \"sci.crypt\", \"sci.electronics\", \"sci.med\", \"sci.space\", \"soc.religion.christian\", \"talk.politics.guns\", \"talk.politics.mideast\", \"talk.politics.misc\", \"talk.religion.misc\"], \"y\": [363.0162703379224, 300.551901336074, 221.33604060913706, 229.44602851323828, 196.53582554517135, 334.36538461538464, 200.3825641025641, 234.72424242424242, 222.98694779116465, 256.6478873239437, 383.58758758758756, 353.81029263370334, 229.70426829268294, 344.0656565656566, 331.2016210739615, 401.271815446339, 351.83406593406596, 548.3989361702128, 489.8593548387097, 388.6751592356688]}], {}, {\"showLink\": true, \"linkText\": \"Export to plot.ly\"})});</script>"
      ],
      "text/vnd.plotly.v1+html": [
       "<div id=\"8afd106a-f2fd-47cb-84ee-bf503b4212de\" style=\"height: 525px; width: 100%;\" class=\"plotly-graph-div\"></div><script type=\"text/javascript\">require([\"plotly\"], function(Plotly) { window.PLOTLYENV=window.PLOTLYENV || {};window.PLOTLYENV.BASE_URL=\"https://plot.ly\";Plotly.newPlot(\"8afd106a-f2fd-47cb-84ee-bf503b4212de\", [{\"type\": \"bar\", \"x\": [\"alt.atheism\", \"comp.graphics\", \"comp.os.ms-windows.misc\", \"comp.sys.ibm.pc.hardware\", \"comp.sys.mac.hardware\", \"comp.windows.x\", \"misc.forsale\", \"rec.autos\", \"rec.motorcycles\", \"rec.sport.baseball\", \"rec.sport.hockey\", \"sci.crypt\", \"sci.electronics\", \"sci.med\", \"sci.space\", \"soc.religion.christian\", \"talk.politics.guns\", \"talk.politics.mideast\", \"talk.politics.misc\", \"talk.religion.misc\"], \"y\": [363.0162703379224, 300.551901336074, 221.33604060913706, 229.44602851323828, 196.53582554517135, 334.36538461538464, 200.3825641025641, 234.72424242424242, 222.98694779116465, 256.6478873239437, 383.58758758758756, 353.81029263370334, 229.70426829268294, 344.0656565656566, 331.2016210739615, 401.271815446339, 351.83406593406596, 548.3989361702128, 489.8593548387097, 388.6751592356688]}], {}, {\"showLink\": true, \"linkText\": \"Export to plot.ly\"})});</script>"
      ]
     },
     "metadata": {},
     "output_type": "display_data"
    }
   ],
   "source": [
    "# 计算每个类别的平均单词数\n",
    "def cal_word_numbers_per_news(category):\n",
    "    word_number = 0\n",
    "    i = 0\n",
    "    length_of_cat = len(category)\n",
    "    while i < length_of_cat:\n",
    "        for word in category[i].split(\" \"):\n",
    "            word_number += 1\n",
    "        i += 1\n",
    "    result = word_number / length_of_cat\n",
    "    return result\n",
    "\n",
    "word_numbers_per_news=[cal_word_numbers_per_news(fetch_20newsgroups(subset='all',categories=['alt.atheism']).data),\n",
    "                cal_word_numbers_per_news(fetch_20newsgroups(subset='all',categories=['comp.graphics']).data),\n",
    "                cal_word_numbers_per_news(fetch_20newsgroups(subset='all',categories=['comp.os.ms-windows.misc']).data),\n",
    "                cal_word_numbers_per_news(fetch_20newsgroups(subset='all',categories=['comp.sys.ibm.pc.hardware']).data),\n",
    "                cal_word_numbers_per_news(fetch_20newsgroups(subset='all',categories=['comp.sys.mac.hardware']).data),\n",
    "                cal_word_numbers_per_news(fetch_20newsgroups(subset='all',categories=['comp.windows.x']).data),\n",
    "                cal_word_numbers_per_news(fetch_20newsgroups(subset='all',categories=['misc.forsale']).data),\n",
    "                cal_word_numbers_per_news(fetch_20newsgroups(subset='all',categories=['rec.autos']).data),\n",
    "                cal_word_numbers_per_news(fetch_20newsgroups(subset='all',categories=['rec.motorcycles']).data),\n",
    "                cal_word_numbers_per_news(fetch_20newsgroups(subset='all',categories=['rec.sport.baseball']).data),\n",
    "                cal_word_numbers_per_news(fetch_20newsgroups(subset='all',categories=['rec.sport.hockey']).data),\n",
    "                cal_word_numbers_per_news(fetch_20newsgroups(subset='all',categories=['sci.crypt']).data),\n",
    "                cal_word_numbers_per_news(fetch_20newsgroups(subset='all',categories=['sci.electronics']).data),\n",
    "                cal_word_numbers_per_news(fetch_20newsgroups(subset='all',categories=['sci.med']).data),\n",
    "                cal_word_numbers_per_news(fetch_20newsgroups(subset='all',categories=['sci.space']).data),\n",
    "                cal_word_numbers_per_news(fetch_20newsgroups(subset='all',categories=['soc.religion.christian']).data),\n",
    "                cal_word_numbers_per_news(fetch_20newsgroups(subset='all',categories=['talk.politics.guns']).data),\n",
    "                cal_word_numbers_per_news(fetch_20newsgroups(subset='all',categories=['talk.politics.mideast']).data),\n",
    "                cal_word_numbers_per_news(fetch_20newsgroups(subset='all',categories=['talk.politics.misc']).data),\n",
    "                cal_word_numbers_per_news(fetch_20newsgroups(subset='all',categories=['talk.religion.misc']).data)]\n",
    "\n",
    "data = [Bar(x=categories,\n",
    "            y=word_numbers_per_news)]\n",
    "\n",
    "of.iplot(data)"
   ]
  },
  {
   "cell_type": "markdown",
   "metadata": {},
   "source": [
    "## 1.2 处理数据"
   ]
  },
  {
   "cell_type": "code",
   "execution_count": 5,
   "metadata": {},
   "outputs": [],
   "source": [
    "from sklearn.feature_extraction.text import CountVectorizer\n",
    "from sklearn.feature_extraction.text import TfidfTransformer\n",
    "from sklearn.naive_bayes import MultinomialNB\n",
    "from sklearn.linear_model import SGDClassifier\n",
    "from sklearn.svm import SVC\n",
    "from sklearn.tree import DecisionTreeClassifier\n",
    "from sklearn.pipeline import Pipeline\n",
    "import numpy as np\n",
    "import regex as re\n",
    "\n",
    "import nltk\n",
    "from nltk.stem.porter import PorterStemmer\n",
    "from nltk.stem import WordNetLemmatizer\n",
    "nltk.data.path.append('/Users/jian/Desktop/nltk_data')"
   ]
  },
  {
   "cell_type": "markdown",
   "metadata": {},
   "source": [
    "### 1.2.1 普通清理（处理大小写、数字、标点、空格）"
   ]
  },
  {
   "cell_type": "code",
   "execution_count": 6,
   "metadata": {},
   "outputs": [],
   "source": [
    "def clean_text(text):\n",
    "    text = text.lower() # 大小写转换\n",
    "    text = re.sub(\"\\d+\", \" \", text) # 去除数字\n",
    "    text = re.sub(\"\\p{P}+\", \" \", text) # 去除标点符号\n",
    "    text = re.sub(\"<\", \" \", text)\n",
    "    text = re.sub(\">\", \" \", text)\n",
    "    text = re.sub(r'\\s+', \" \", text) # 多个空格合并一个空格   \n",
    "    return text"
   ]
  },
  {
   "cell_type": "markdown",
   "metadata": {},
   "source": [
    "### 1.2.2 词干提取"
   ]
  },
  {
   "cell_type": "code",
   "execution_count": 7,
   "metadata": {},
   "outputs": [],
   "source": [
    "def stemmed_word(word):\n",
    "    porter_stemmer = PorterStemmer()\n",
    "    return porter_stemmer.stem(word)\n",
    "\n",
    "def stemmed_text(text):\n",
    "    text = [stemmed_word(word) for word in text.split(\" \")]\n",
    "    text = ' '.join(text)\n",
    "    return text"
   ]
  },
  {
   "cell_type": "markdown",
   "metadata": {},
   "source": [
    "### 1.2.3 词性还原"
   ]
  },
  {
   "cell_type": "code",
   "execution_count": 8,
   "metadata": {},
   "outputs": [],
   "source": [
    "def lemmatizer_word(word):\n",
    "    lemmatizer = WordNetLemmatizer()\n",
    "    return lemmatizer.lemmatize(word)\n",
    "\n",
    "def lemmatizer_text(text):\n",
    "    text = [lemmatizer_word(word) for word in text.split(\" \")]\n",
    "    text = ' '.join(text)\n",
    "    return text"
   ]
  },
  {
   "cell_type": "code",
   "execution_count": 9,
   "metadata": {},
   "outputs": [
    {
     "data": {
      "text/plain": [
       "'strawberri'"
      ]
     },
     "execution_count": 9,
     "metadata": {},
     "output_type": "execute_result"
    }
   ],
   "source": [
    "stemmed_word('strawberries')"
   ]
  },
  {
   "cell_type": "code",
   "execution_count": 10,
   "metadata": {
    "scrolled": true
   },
   "outputs": [
    {
     "data": {
      "text/plain": [
       "'strawberry'"
      ]
     },
     "execution_count": 10,
     "metadata": {},
     "output_type": "execute_result"
    }
   ],
   "source": [
    "lemmatizer_word('strawberries')"
   ]
  },
  {
   "cell_type": "code",
   "execution_count": 11,
   "metadata": {},
   "outputs": [
    {
     "data": {
      "text/plain": [
       "'from psyrobtw ubvmsd cc buffalo edu robert weiss subject apr god s promis in philippian organ univers at buffalo line news softwar vax vm vnew nntp post host ubvmsd cc buffalo edu those thing which ye have both learn and receiv and heard and seen in me do and the god of peac shall be with you philippian '"
      ]
     },
     "execution_count": 11,
     "metadata": {},
     "output_type": "execute_result"
    }
   ],
   "source": [
    "clean_text_4_test = clean_text(newsgroups.data[0])\n",
    "stemmed_text(clean_text_4_test)"
   ]
  },
  {
   "cell_type": "code",
   "execution_count": 12,
   "metadata": {},
   "outputs": [
    {
     "data": {
      "text/plain": [
       "'from psyrobtw ubvmsd cc buffalo edu robert wei subject apr god s promise in philippian organization university at buffalo line news software vax vms vnews nntp posting host ubvmsd cc buffalo edu those thing which ye have both learned and received and heard and seen in me do and the god of peace shall be with you philippian '"
      ]
     },
     "execution_count": 12,
     "metadata": {},
     "output_type": "execute_result"
    }
   ],
   "source": [
    "lemmatizer_text(clean_text_4_test)"
   ]
  },
  {
   "cell_type": "markdown",
   "metadata": {},
   "source": [
    "## 1.3 生成原始数据与清理后的数据"
   ]
  },
  {
   "cell_type": "markdown",
   "metadata": {},
   "source": [
    "### 1.3.1 原始数据"
   ]
  },
  {
   "cell_type": "code",
   "execution_count": 13,
   "metadata": {},
   "outputs": [],
   "source": [
    "newsgroups_original = fetch_20newsgroups(subset='all', shuffle=True, random_state=233)\n",
    "VALIDATION_SPLIT = 0.2\n",
    "num_validation_samples = int(VALIDATION_SPLIT * len(newsgroups_original.data))\n",
    "\n",
    "x_train_o = newsgroups_original.data[:-num_validation_samples]\n",
    "y_train_o = newsgroups_original.target[:-num_validation_samples]\n",
    "x_val_o = newsgroups_original.data[-num_validation_samples:]\n",
    "y_val_o = newsgroups_original.target[-num_validation_samples:]"
   ]
  },
  {
   "cell_type": "markdown",
   "metadata": {},
   "source": [
    "### 1.3.2 普通清理后的数据"
   ]
  },
  {
   "cell_type": "code",
   "execution_count": 14,
   "metadata": {},
   "outputs": [
    {
     "name": "stdout",
     "output_type": "stream",
     "text": [
      "\n",
      "Time cost: 5.99 seconds\n"
     ]
    }
   ],
   "source": [
    "newsgroups_clean = fetch_20newsgroups(subset='all', shuffle=True, random_state=233)\n",
    "\n",
    "start_time = time.time()\n",
    "\n",
    "i = 0\n",
    "length = len(newsgroups_clean.data)\n",
    "\n",
    "while i < length:\n",
    "    newsgroups_clean.data[i] = clean_text(newsgroups_clean.data[i])\n",
    "    i += 1\n",
    "\n",
    "x_train_c = newsgroups_clean.data[:-num_validation_samples]\n",
    "y_train_c = newsgroups_clean.target[:-num_validation_samples]\n",
    "x_val_c = newsgroups_clean.data[-num_validation_samples:]\n",
    "y_val_c = newsgroups_clean.target[-num_validation_samples:]\n",
    "\n",
    "end_time = time.time()\n",
    "print(\"\\nTime cost: {:.2f} seconds\".format(end_time - start_time))"
   ]
  },
  {
   "cell_type": "markdown",
   "metadata": {},
   "source": [
    "### 1.3.3 词干提取后的数据"
   ]
  },
  {
   "cell_type": "code",
   "execution_count": 15,
   "metadata": {},
   "outputs": [
    {
     "name": "stdout",
     "output_type": "stream",
     "text": [
      "\n",
      "Time cost: 160.74 seconds\n"
     ]
    }
   ],
   "source": [
    "newsgroups_stemmed = fetch_20newsgroups(subset='all', shuffle=True, random_state=233)\n",
    "\n",
    "start_time = time.time()\n",
    "\n",
    "i = 0\n",
    "length = len(newsgroups_stemmed.data)\n",
    "\n",
    "while i < length:\n",
    "    newsgroups_stemmed.data[i] = stemmed_text(newsgroups_stemmed.data[i])\n",
    "    i += 1\n",
    "\n",
    "x_train_s = newsgroups_stemmed.data[:-num_validation_samples]\n",
    "y_train_s = newsgroups_stemmed.target[:-num_validation_samples]\n",
    "x_val_s = newsgroups_stemmed.data[-num_validation_samples:]\n",
    "y_val_s = newsgroups_stemmed.target[-num_validation_samples:]\n",
    "\n",
    "end_time = time.time()\n",
    "print(\"\\nTime cost: {:.2f} seconds\".format(end_time - start_time))"
   ]
  },
  {
   "cell_type": "markdown",
   "metadata": {},
   "source": [
    "### 1.3.4 词性还原后的数据"
   ]
  },
  {
   "cell_type": "code",
   "execution_count": 16,
   "metadata": {},
   "outputs": [
    {
     "name": "stdout",
     "output_type": "stream",
     "text": [
      "\n",
      "Time cost: 37.54 seconds\n"
     ]
    }
   ],
   "source": [
    "newsgroups_lemmatizer = fetch_20newsgroups(subset='all', shuffle=True, random_state=233)\n",
    "\n",
    "start_time = time.time()\n",
    "\n",
    "i = 0\n",
    "length = len(newsgroups_stemmed.data)\n",
    "\n",
    "while i < length:\n",
    "    newsgroups_lemmatizer.data[i] = lemmatizer_text(newsgroups_lemmatizer.data[i])\n",
    "    i += 1\n",
    "\n",
    "x_train_l = newsgroups_lemmatizer.data[:-num_validation_samples]\n",
    "y_train_l = newsgroups_lemmatizer.target[:-num_validation_samples]\n",
    "x_val_l = newsgroups_lemmatizer.data[-num_validation_samples:]\n",
    "y_val_l = newsgroups_lemmatizer.target[-num_validation_samples:]\n",
    "\n",
    "end_time = time.time()\n",
    "print(\"\\nTime cost: {:.2f} seconds\".format(end_time - start_time))"
   ]
  },
  {
   "cell_type": "markdown",
   "metadata": {},
   "source": [
    "### 1.3.5 普通清理&词干提取后的数据"
   ]
  },
  {
   "cell_type": "code",
   "execution_count": 17,
   "metadata": {},
   "outputs": [
    {
     "name": "stdout",
     "output_type": "stream",
     "text": [
      "\n",
      "Time cost: 176.25 seconds\n"
     ]
    }
   ],
   "source": [
    "newsgroups_clean_stemmed = fetch_20newsgroups(subset='all', shuffle=True, random_state=233)\n",
    "\n",
    "start_time = time.time()\n",
    "\n",
    "i = 0\n",
    "length = len(newsgroups_stemmed.data)\n",
    "\n",
    "while i < length:\n",
    "    newsgroups_clean_stemmed.data[i] = stemmed_text(clean_text(newsgroups_clean_stemmed.data[i]))\n",
    "    i += 1\n",
    "\n",
    "x_train_cs = newsgroups_clean_stemmed.data[:-num_validation_samples]\n",
    "y_train_cs = newsgroups_clean_stemmed.target[:-num_validation_samples]\n",
    "x_val_cs = newsgroups_clean_stemmed.data[-num_validation_samples:]\n",
    "y_val_cs = newsgroups_clean_stemmed.target[-num_validation_samples:]\n",
    "\n",
    "end_time = time.time()\n",
    "print(\"\\nTime cost: {:.2f} seconds\".format(end_time - start_time))"
   ]
  },
  {
   "cell_type": "markdown",
   "metadata": {},
   "source": [
    "### 1.3.6 普通清理&词性还原后的数据"
   ]
  },
  {
   "cell_type": "code",
   "execution_count": 18,
   "metadata": {},
   "outputs": [
    {
     "name": "stdout",
     "output_type": "stream",
     "text": [
      "\n",
      "Time cost: 45.18 seconds\n"
     ]
    }
   ],
   "source": [
    "newsgroups_clean_lemmatizer = fetch_20newsgroups(subset='all', shuffle=True, random_state=233)\n",
    "\n",
    "start_time = time.time()\n",
    "\n",
    "i = 0\n",
    "length = len(newsgroups_clean_lemmatizer.data)\n",
    "\n",
    "while i < length:\n",
    "    newsgroups_clean_lemmatizer.data[i] = lemmatizer_text(clean_text(newsgroups_clean_lemmatizer.data[i]))\n",
    "    i += 1\n",
    "\n",
    "x_train_cl = newsgroups_clean_lemmatizer.data[:-num_validation_samples]\n",
    "y_train_cl = newsgroups_clean_lemmatizer.target[:-num_validation_samples]\n",
    "x_val_cl = newsgroups_clean_lemmatizer.data[-num_validation_samples:]\n",
    "y_val_cl = newsgroups_clean_lemmatizer.target[-num_validation_samples:]\n",
    "\n",
    "end_time = time.time()\n",
    "print(\"\\nTime cost: {:.2f} seconds\".format(end_time - start_time))"
   ]
  },
  {
   "cell_type": "markdown",
   "metadata": {},
   "source": [
    "# 二、模型与数据对比"
   ]
  },
  {
   "cell_type": "markdown",
   "metadata": {},
   "source": [
    "## 2.1 定义模型"
   ]
  },
  {
   "cell_type": "markdown",
   "metadata": {},
   "source": [
    "### 2.1.1 贝叶斯"
   ]
  },
  {
   "cell_type": "code",
   "execution_count": 19,
   "metadata": {},
   "outputs": [],
   "source": [
    "def NB(X_train, X_test, y_train, y_test):\n",
    "    \n",
    "    start_time = time.time()\n",
    "\n",
    "    # pipeline (tokenizer => transformer => MultinomialNB classifier)\n",
    "    text_clf = Pipeline([('vect', CountVectorizer()),('tfidf', TfidfTransformer()),('clf', MultinomialNB())])\n",
    "    text_clf = text_clf.fit(X_train, X_test)\n",
    "\n",
    "    # evaluate on test set\n",
    "    predicted = text_clf.predict(y_train)\n",
    "    acc = np.mean(predicted == y_test) * 100\n",
    "    \n",
    "    end_time = time.time()\n",
    "    time_cost = end_time - start_time\n",
    "    return acc, time_cost"
   ]
  },
  {
   "cell_type": "markdown",
   "metadata": {},
   "source": [
    "### 2.1.2 SVM"
   ]
  },
  {
   "cell_type": "code",
   "execution_count": 20,
   "metadata": {},
   "outputs": [],
   "source": [
    "def SVM(X_train, X_test, y_train, y_test):\n",
    "    \n",
    "    start_time = time.time()\n",
    "    \n",
    "    text_clf = Pipeline([('vect', CountVectorizer()),('tfidf', TfidfTransformer()),('clf', SVC(kernel=\"linear\"))])\n",
    "    text_clf = text_clf.fit(X_train, X_test)\n",
    "\n",
    "    predicted = text_clf.predict(y_train)\n",
    "    acc = np.mean(predicted == y_test) * 100\n",
    "    \n",
    "    end_time = time.time()\n",
    "    time_cost = end_time - start_time\n",
    "    return acc, time_cost"
   ]
  },
  {
   "cell_type": "markdown",
   "metadata": {},
   "source": [
    "### 2.1.3 决策树"
   ]
  },
  {
   "cell_type": "code",
   "execution_count": 21,
   "metadata": {},
   "outputs": [],
   "source": [
    "def DT(X_train, X_test, y_train, y_test):\n",
    "    \n",
    "    start_time = time.time()\n",
    "    \n",
    "    text_clf = Pipeline([('vect', CountVectorizer()),('tfidf', TfidfTransformer()),('clf', DecisionTreeClassifier())])\n",
    "    text_clf = text_clf.fit(X_train, X_test)\n",
    "\n",
    "    predicted = text_clf.predict(y_train)\n",
    "    acc = np.mean(predicted == y_test) * 100\n",
    "    \n",
    "    end_time = time.time()\n",
    "    time_cost = end_time - start_time\n",
    "    return acc, time_cost"
   ]
  },
  {
   "cell_type": "markdown",
   "metadata": {},
   "source": [
    "## 2.2 对比模型"
   ]
  },
  {
   "cell_type": "code",
   "execution_count": 22,
   "metadata": {},
   "outputs": [
    {
     "name": "stdout",
     "output_type": "stream",
     "text": [
      "*** Model Accuracy (%) ***\n"
     ]
    },
    {
     "data": {
      "application/vnd.plotly.v1+json": {
       "data": [
        {
         "type": "bar",
         "x": [
          "NB_o",
          "NB_c",
          "NB_s",
          "NB_l",
          "NB_cs",
          "NB_cl",
          "SVM_o",
          "SVM_c",
          "SVM_s",
          "SVM_l",
          "SVM_cs",
          "SVM_cl",
          "DT_o",
          "DT_c",
          "DT_s",
          "DT_l",
          "DT_cs",
          "DT_cl"
         ],
         "y": [
          85.53993101618467,
          85.00928628283364,
          84.61130273282038,
          85.460334306182,
          84.26638365614221,
          84.95622180949854,
          92.11992570973733,
          92.09339347306978,
          91.61581321305387,
          91.98726452639957,
          91.72194215972407,
          92.06686123640223,
          62.37728840541258,
          63.730432475457675,
          64.02228707880074,
          63.91615813213054,
          64.65906075882198,
          65.6672857521889
         ]
        }
       ],
       "layout": {}
      },
      "text/html": [
       "<div id=\"16303b88-0e9c-444a-9702-bd69a82e2baa\" style=\"height: 525px; width: 100%;\" class=\"plotly-graph-div\"></div><script type=\"text/javascript\">require([\"plotly\"], function(Plotly) { window.PLOTLYENV=window.PLOTLYENV || {};window.PLOTLYENV.BASE_URL=\"https://plot.ly\";Plotly.newPlot(\"16303b88-0e9c-444a-9702-bd69a82e2baa\", [{\"type\": \"bar\", \"x\": [\"NB_o\", \"NB_c\", \"NB_s\", \"NB_l\", \"NB_cs\", \"NB_cl\", \"SVM_o\", \"SVM_c\", \"SVM_s\", \"SVM_l\", \"SVM_cs\", \"SVM_cl\", \"DT_o\", \"DT_c\", \"DT_s\", \"DT_l\", \"DT_cs\", \"DT_cl\"], \"y\": [85.53993101618467, 85.00928628283364, 84.61130273282038, 85.460334306182, 84.26638365614221, 84.95622180949854, 92.11992570973733, 92.09339347306978, 91.61581321305387, 91.98726452639957, 91.72194215972407, 92.06686123640223, 62.37728840541258, 63.730432475457675, 64.02228707880074, 63.91615813213054, 64.65906075882198, 65.6672857521889]}], {}, {\"showLink\": true, \"linkText\": \"Export to plot.ly\"})});</script>"
      ],
      "text/vnd.plotly.v1+html": [
       "<div id=\"16303b88-0e9c-444a-9702-bd69a82e2baa\" style=\"height: 525px; width: 100%;\" class=\"plotly-graph-div\"></div><script type=\"text/javascript\">require([\"plotly\"], function(Plotly) { window.PLOTLYENV=window.PLOTLYENV || {};window.PLOTLYENV.BASE_URL=\"https://plot.ly\";Plotly.newPlot(\"16303b88-0e9c-444a-9702-bd69a82e2baa\", [{\"type\": \"bar\", \"x\": [\"NB_o\", \"NB_c\", \"NB_s\", \"NB_l\", \"NB_cs\", \"NB_cl\", \"SVM_o\", \"SVM_c\", \"SVM_s\", \"SVM_l\", \"SVM_cs\", \"SVM_cl\", \"DT_o\", \"DT_c\", \"DT_s\", \"DT_l\", \"DT_cs\", \"DT_cl\"], \"y\": [85.53993101618467, 85.00928628283364, 84.61130273282038, 85.460334306182, 84.26638365614221, 84.95622180949854, 92.11992570973733, 92.09339347306978, 91.61581321305387, 91.98726452639957, 91.72194215972407, 92.06686123640223, 62.37728840541258, 63.730432475457675, 64.02228707880074, 63.91615813213054, 64.65906075882198, 65.6672857521889]}], {}, {\"showLink\": true, \"linkText\": \"Export to plot.ly\"})});</script>"
      ]
     },
     "metadata": {},
     "output_type": "display_data"
    },
    {
     "name": "stdout",
     "output_type": "stream",
     "text": [
      "\n",
      "*** Model Time Cost (seconds) ***\n"
     ]
    },
    {
     "data": {
      "application/vnd.plotly.v1+json": {
       "data": [
        {
         "type": "bar",
         "x": [
          "NB_o",
          "NB_c",
          "NB_s",
          "NB_l",
          "NB_cs",
          "NB_cl",
          "SVM_o",
          "SVM_c",
          "SVM_s",
          "SVM_l",
          "SVM_cs",
          "SVM_cl",
          "DT_o",
          "DT_c",
          "DT_s",
          "DT_l",
          "DT_cs",
          "DT_cl"
         ],
         "y": [
          6.437088966369629,
          6.9183759689331055,
          8.251929759979248,
          6.545593023300171,
          7.876240968704224,
          8.79289197921753,
          325.8770878314972,
          279.4451823234558,
          310.6277849674225,
          321.9110288619995,
          267.8431029319763,
          272.417729139328,
          46.45140027999878,
          38.85799193382263,
          50.561208963394165,
          47.59389901161194,
          36.03821802139282,
          33.06077003479004
         ]
        }
       ],
       "layout": {}
      },
      "text/html": [
       "<div id=\"192a203d-5f48-4bae-b11a-36720565a83c\" style=\"height: 525px; width: 100%;\" class=\"plotly-graph-div\"></div><script type=\"text/javascript\">require([\"plotly\"], function(Plotly) { window.PLOTLYENV=window.PLOTLYENV || {};window.PLOTLYENV.BASE_URL=\"https://plot.ly\";Plotly.newPlot(\"192a203d-5f48-4bae-b11a-36720565a83c\", [{\"type\": \"bar\", \"x\": [\"NB_o\", \"NB_c\", \"NB_s\", \"NB_l\", \"NB_cs\", \"NB_cl\", \"SVM_o\", \"SVM_c\", \"SVM_s\", \"SVM_l\", \"SVM_cs\", \"SVM_cl\", \"DT_o\", \"DT_c\", \"DT_s\", \"DT_l\", \"DT_cs\", \"DT_cl\"], \"y\": [6.437088966369629, 6.9183759689331055, 8.251929759979248, 6.545593023300171, 7.876240968704224, 8.79289197921753, 325.8770878314972, 279.4451823234558, 310.6277849674225, 321.9110288619995, 267.8431029319763, 272.417729139328, 46.45140027999878, 38.85799193382263, 50.561208963394165, 47.59389901161194, 36.03821802139282, 33.06077003479004]}], {}, {\"showLink\": true, \"linkText\": \"Export to plot.ly\"})});</script>"
      ],
      "text/vnd.plotly.v1+html": [
       "<div id=\"192a203d-5f48-4bae-b11a-36720565a83c\" style=\"height: 525px; width: 100%;\" class=\"plotly-graph-div\"></div><script type=\"text/javascript\">require([\"plotly\"], function(Plotly) { window.PLOTLYENV=window.PLOTLYENV || {};window.PLOTLYENV.BASE_URL=\"https://plot.ly\";Plotly.newPlot(\"192a203d-5f48-4bae-b11a-36720565a83c\", [{\"type\": \"bar\", \"x\": [\"NB_o\", \"NB_c\", \"NB_s\", \"NB_l\", \"NB_cs\", \"NB_cl\", \"SVM_o\", \"SVM_c\", \"SVM_s\", \"SVM_l\", \"SVM_cs\", \"SVM_cl\", \"DT_o\", \"DT_c\", \"DT_s\", \"DT_l\", \"DT_cs\", \"DT_cl\"], \"y\": [6.437088966369629, 6.9183759689331055, 8.251929759979248, 6.545593023300171, 7.876240968704224, 8.79289197921753, 325.8770878314972, 279.4451823234558, 310.6277849674225, 321.9110288619995, 267.8431029319763, 272.417729139328, 46.45140027999878, 38.85799193382263, 50.561208963394165, 47.59389901161194, 36.03821802139282, 33.06077003479004]}], {}, {\"showLink\": true, \"linkText\": \"Export to plot.ly\"})});</script>"
      ]
     },
     "metadata": {},
     "output_type": "display_data"
    }
   ],
   "source": [
    "model_data_name = ['NB_o', 'NB_c', 'NB_s', 'NB_l', 'NB_cs', 'NB_cl',\n",
    "                   'SVM_o', 'SVM_c', 'SVM_s', 'SVM_l', 'SVM_cs', 'SVM_cl',\n",
    "                   'DT_o', 'DT_c', 'DT_s', 'DT_l', 'DT_cs', 'DT_cl',]\n",
    "\n",
    "NB_o_acc, NB_o_time = NB(x_train_o, y_train_o, x_val_o, y_val_o)\n",
    "NB_c_acc, NB_c_time = NB(x_train_c, y_train_c, x_val_c, y_val_c)\n",
    "NB_s_acc, NB_s_time = NB(x_train_s, y_train_s, x_val_s, y_val_s)\n",
    "NB_l_acc, NB_l_time = NB(x_train_l, y_train_l, x_val_l, y_val_l)\n",
    "NB_cs_acc, NB_cs_time = NB(x_train_cs, y_train_cs, x_val_cs, y_val_cs)\n",
    "NB_cl_acc, NB_cl_time = NB(x_train_cl, y_train_cl, x_val_cl, y_val_cl)\n",
    "\n",
    "SVM_o_acc, SVM_o_time = SVM(x_train_o, y_train_o, x_val_o, y_val_o)\n",
    "SVM_c_acc, SVM_c_time = SVM(x_train_c, y_train_c, x_val_c, y_val_c)\n",
    "SVM_s_acc, SVM_s_time = SVM(x_train_s, y_train_s, x_val_s, y_val_s)\n",
    "SVM_l_acc, SVM_l_time = SVM(x_train_l, y_train_l, x_val_l, y_val_l)\n",
    "SVM_cs_acc, SVM_cs_time = SVM(x_train_cs, y_train_cs, x_val_cs, y_val_cs)\n",
    "SVM_cl_acc, SVM_cl_time = SVM(x_train_cl, y_train_cl, x_val_cl, y_val_cl)\n",
    "\n",
    "DT_o_acc, DT_o_time = DT(x_train_o, y_train_o, x_val_o, y_val_o)\n",
    "DT_c_acc, DT_c_time = DT(x_train_c, y_train_c, x_val_c, y_val_c)\n",
    "DT_s_acc, DT_s_time = DT(x_train_s, y_train_s, x_val_s, y_val_s)\n",
    "DT_l_acc, DT_l_time = DT(x_train_l, y_train_l, x_val_l, y_val_l)\n",
    "DT_cs_acc, DT_cs_time = DT(x_train_cs, y_train_cs, x_val_cs, y_val_cs)\n",
    "DT_cl_acc, DT_cl_time = DT(x_train_cl, y_train_cl, x_val_cl, y_val_cl)\n",
    "\n",
    "acc_numbers = [NB_o_acc, NB_c_acc, NB_s_acc, NB_l_acc, NB_cs_acc, NB_cl_acc,\n",
    "               SVM_o_acc, SVM_c_acc, SVM_s_acc, SVM_l_acc, SVM_cs_acc, SVM_cl_acc,\n",
    "               DT_o_acc, DT_c_acc, DT_s_acc, DT_l_acc, DT_cs_acc, DT_cl_acc]\n",
    "\n",
    "time_numbers = [NB_o_time, NB_c_time, NB_s_time, NB_l_time, NB_cs_time, NB_cl_time,\n",
    "               SVM_o_time, SVM_c_time, SVM_s_time, SVM_l_time, SVM_cs_time, SVM_cl_time,\n",
    "               DT_o_time, DT_c_time, DT_s_time, DT_l_time, DT_cs_time, DT_cl_time]\n",
    "\n",
    "print(\"*** Model Accuracy (%) ***\")\n",
    "data = [Bar(x=model_data_name,\n",
    "            y=acc_numbers)]\n",
    "of.iplot(data)\n",
    "\n",
    "print(\"\\n*** Model Time Cost (seconds) ***\")\n",
    "data = [Bar(x=model_data_name,\n",
    "            y=time_numbers)]\n",
    "of.iplot(data)"
   ]
  },
  {
   "cell_type": "code",
   "execution_count": 23,
   "metadata": {},
   "outputs": [
    {
     "name": "stdout",
     "output_type": "stream",
     "text": [
      "\n",
      "Total time cost: 42.17 minutes\n"
     ]
    }
   ],
   "source": [
    "total_cost_time_end = time.time()\n",
    "total_cost_time = total_cost_time_end - total_cost_time_start\n",
    "print(\"\\nTotal time cost: {:.2f} minutes\".format(total_cost_time / 60))"
   ]
  }
 ],
 "metadata": {
  "anaconda-cloud": {},
  "kernelspec": {
   "display_name": "Python 3",
   "language": "python",
   "name": "py3"
  },
  "language_info": {
   "codemirror_mode": {
    "name": "ipython",
    "version": 3
   },
   "file_extension": ".py",
   "mimetype": "text/x-python",
   "name": "python",
   "nbconvert_exporter": "python",
   "pygments_lexer": "ipython3",
   "version": "3.6.5"
  }
 },
 "nbformat": 4,
 "nbformat_minor": 2
}
