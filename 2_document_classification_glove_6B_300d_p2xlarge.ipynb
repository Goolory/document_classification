{
 "cells": [
  {
   "cell_type": "markdown",
   "metadata": {},
   "source": [
    "# 机器学习纳米学位\n",
    "## 毕业项目: 自然语言处理 文档归类——第二部分：GloVe 实现"
   ]
  },
  {
   "cell_type": "markdown",
   "metadata": {},
   "source": [
    "## ⚠️注意事项：\n",
    "- 运行环境为 Python-3，Tensorflow-1.0.1，Keras-2.1.3\n",
    "- GloVe 6B 大小 822 MB，下载地址：https://nlp.stanford.edu/data/glove.6B.zip\n",
    "- GloVe 840B 大小 2.03 GB，下载地址：https://nlp.stanford.edu/data/glove.840B.300d.zip\n",
    "- 如需使用 840B，则需要将“在嵌入向量中创建嵌入索引映射”的 line.split() 修改为 line.split(' ')\n",
    "- 文本预处理部分已经注释掉，如需预处理，直接取消注释，并修改数据赋值部分\n",
    "- 文本预处理部分如需手动导入 NLTK 路径，需要将 nltk.data.path.append('nltk_data') 路径修改为本地路径，大小 10 MB，下载地址：[百度云](https://pan.baidu.com/s/1Tp-NsX9vWDgBVp14P3jNxw)\n",
    "- 使用不同维度的预训练数据，需要修改 EMBEDDING_DIM 到对应的维度"
   ]
  },
  {
   "cell_type": "markdown",
   "metadata": {},
   "source": [
    "---"
   ]
  },
  {
   "cell_type": "markdown",
   "metadata": {},
   "source": [
    "## 导入原始数据"
   ]
  },
  {
   "cell_type": "code",
   "execution_count": 1,
   "metadata": {},
   "outputs": [
    {
     "name": "stdout",
     "output_type": "stream",
     "text": [
      "['alt.atheism',\n",
      " 'comp.graphics',\n",
      " 'comp.os.ms-windows.misc',\n",
      " 'comp.sys.ibm.pc.hardware',\n",
      " 'comp.sys.mac.hardware',\n",
      " 'comp.windows.x',\n",
      " 'misc.forsale',\n",
      " 'rec.autos',\n",
      " 'rec.motorcycles',\n",
      " 'rec.sport.baseball',\n",
      " 'rec.sport.hockey',\n",
      " 'sci.crypt',\n",
      " 'sci.electronics',\n",
      " 'sci.med',\n",
      " 'sci.space',\n",
      " 'soc.religion.christian',\n",
      " 'talk.politics.guns',\n",
      " 'talk.politics.mideast',\n",
      " 'talk.politics.misc',\n",
      " 'talk.religion.misc']\n"
     ]
    }
   ],
   "source": [
    "import ssl\n",
    "ssl._create_default_https_context = ssl._create_unverified_context\n",
    "\n",
    "from sklearn.datasets import fetch_20newsgroups\n",
    "\n",
    "newsgroups = fetch_20newsgroups(subset='all', shuffle=True, random_state=233)\n",
    "\n",
    "from pprint import pprint\n",
    "pprint(list(newsgroups.target_names))"
   ]
  },
  {
   "cell_type": "code",
   "execution_count": 2,
   "metadata": {},
   "outputs": [
    {
     "name": "stderr",
     "output_type": "stream",
     "text": [
      "/home/ubuntu/anaconda3/envs/tensorflow_p36/lib/python3.6/site-packages/h5py/__init__.py:36: FutureWarning: Conversion of the second argument of issubdtype from `float` to `np.floating` is deprecated. In future, it will be treated as `np.float64 == np.dtype(float).type`.\n",
      "  from ._conv import register_converters as _register_converters\n",
      "Using TensorFlow backend.\n"
     ]
    }
   ],
   "source": [
    "from __future__ import print_function\n",
    "\n",
    "import os\n",
    "import sys\n",
    "import time\n",
    "import numpy as np\n",
    "from keras.preprocessing.text import Tokenizer\n",
    "from keras.preprocessing.sequence import pad_sequences\n",
    "from keras.utils import to_categorical\n",
    "from keras.layers import Dense, Input, GlobalMaxPooling1D\n",
    "from keras.layers import Conv1D, MaxPooling1D, Embedding\n",
    "from keras.models import Model"
   ]
  },
  {
   "cell_type": "markdown",
   "metadata": {},
   "source": [
    "## 数据预处理（可选）"
   ]
  },
  {
   "cell_type": "code",
   "execution_count": 3,
   "metadata": {},
   "outputs": [],
   "source": [
    "# import regex as re\n",
    "\n",
    "# import nltk\n",
    "# # nltk.data.path.append('nltk_data')\n",
    "# from nltk.stem.porter import PorterStemmer\n",
    "# from nltk.stem import WordNetLemmatizer\n",
    "\n",
    "# #---------------------------------------------------------\n",
    "\n",
    "# # 简单清理文本\n",
    "\n",
    "# def clean_text(text):\n",
    "#     text = text.lower() # 大小写转换\n",
    "#     text = re.sub(\"\\d+\", \" \", text) # 去除数字\n",
    "#     text = re.sub(\"\\p{P}+\", \" \", text) # 去除标点符号\n",
    "#     text = re.sub(\"<\", \" \", text)\n",
    "#     text = re.sub(\">\", \" \", text)\n",
    "#     text = re.sub(\"\\|\", \" \", text)\n",
    "#     text = re.sub(\"\\`\", \" \", text)\n",
    "#     text = re.sub(r'\\s+', \" \", text) # 多个空格合并一个空格   \n",
    "#     return text\n",
    "\n",
    "# #---------------------------------------------------------\n",
    "\n",
    "# # 词干提取\n",
    "\n",
    "# def stemmed_word(word):\n",
    "#     porter_stemmer = PorterStemmer()\n",
    "#     return porter_stemmer.stem(word)\n",
    "\n",
    "# def stemmed_text(text):\n",
    "#     text = [stemmed_word(word) for word in text.split(\" \")]\n",
    "#     text = ' '.join(text)\n",
    "#     return text\n",
    "\n",
    "# #---------------------------------------------------------\n",
    "\n",
    "# # 词性还原\n",
    "\n",
    "# def lemmatizer_word(word):\n",
    "#     lemmatizer = WordNetLemmatizer()\n",
    "#     return lemmatizer.lemmatize(word)\n",
    "\n",
    "# def lemmatizer_text(text):\n",
    "#     text = [lemmatizer_word(word) for word in text.split(\" \")]\n",
    "#     text = ' '.join(text)\n",
    "#     return text\n",
    "\n",
    "# #---------------------------------------------------------\n",
    "\n",
    "# start_time = time.time()\n",
    "\n",
    "# lemmatizer_newsgroups = fetch_20newsgroups(subset='all', shuffle=True, random_state=233)\n",
    "\n",
    "# i = 0\n",
    "# length = len(lemmatizer_newsgroups.data)\n",
    "\n",
    "# while i < length:\n",
    "#     lemmatizer_newsgroups.data[i] = lemmatizer_text(clean_text(lemmatizer_newsgroups.data[i]))\n",
    "#     i += 1\n",
    "\n",
    "# end_time = time.time()\n",
    "# print(\"\\nTime cost: {:.2f} minutes\".format((end_time - start_time) / 60))"
   ]
  },
  {
   "cell_type": "markdown",
   "metadata": {},
   "source": [
    "## 生成数据"
   ]
  },
  {
   "cell_type": "code",
   "execution_count": 4,
   "metadata": {},
   "outputs": [],
   "source": [
    "MAX_SEQUENCE_LENGTH = 1000\n",
    "MAX_NUM_WORDS = 20000\n",
    "EMBEDDING_DIM = 300\n",
    "VALIDATION_SPLIT = 0.2"
   ]
  },
  {
   "cell_type": "code",
   "execution_count": 5,
   "metadata": {},
   "outputs": [
    {
     "name": "stdout",
     "output_type": "stream",
     "text": [
      "Found 400000 word vectors.\n"
     ]
    }
   ],
   "source": [
    "# 在嵌入向量中创建嵌入索引映射\n",
    "\n",
    "embeddings_index = {}\n",
    "with open('glove.6B.300d.txt') as f:\n",
    "    for line in f:\n",
    "        values = line.split()\n",
    "        word = values[0]\n",
    "        coefs = np.asarray(values[1:], dtype='float32')\n",
    "        embeddings_index[word] = coefs\n",
    "\n",
    "print('Found %s word vectors.' % len(embeddings_index))"
   ]
  },
  {
   "cell_type": "code",
   "execution_count": 6,
   "metadata": {},
   "outputs": [
    {
     "name": "stdout",
     "output_type": "stream",
     "text": [
      "Found 18846 texts.\n"
     ]
    }
   ],
   "source": [
    "# 数据赋值\n",
    "\n",
    "texts = newsgroups.data\n",
    "labels = newsgroups.target\n",
    "\n",
    "# 如需使用预处理数据，则使用下边两行：\n",
    "# texts = lemmatizer_newsgroups.data\n",
    "# labels = lemmatizer_newsgroups.target\n",
    "\n",
    "print('Found %s texts.' % len(texts))"
   ]
  },
  {
   "cell_type": "code",
   "execution_count": 7,
   "metadata": {},
   "outputs": [
    {
     "name": "stdout",
     "output_type": "stream",
     "text": [
      "Found 179209 unique tokens.\n",
      "Shape of data tensor: (18846, 1000)\n",
      "Shape of label tensor: (18846, 20)\n"
     ]
    }
   ],
   "source": [
    "# 将文本样本矢量化为二维整数张量\n",
    "\n",
    "tokenizer = Tokenizer(num_words=MAX_NUM_WORDS)\n",
    "tokenizer.fit_on_texts(texts)\n",
    "sequences = tokenizer.texts_to_sequences(texts)\n",
    "\n",
    "word_index = tokenizer.word_index\n",
    "print('Found %s unique tokens.' % len(word_index))\n",
    "\n",
    "data = pad_sequences(sequences, maxlen=MAX_SEQUENCE_LENGTH)\n",
    "\n",
    "labels = to_categorical(np.asarray(labels))\n",
    "print('Shape of data tensor:', data.shape)\n",
    "print('Shape of label tensor:', labels.shape)"
   ]
  },
  {
   "cell_type": "code",
   "execution_count": 8,
   "metadata": {},
   "outputs": [],
   "source": [
    "# 划分训练集和测试集\n",
    "\n",
    "indices = np.arange(data.shape[0])\n",
    "np.random.shuffle(indices)\n",
    "data = data[indices]\n",
    "labels = labels[indices]\n",
    "num_validation_samples = int(VALIDATION_SPLIT * data.shape[0])\n",
    "\n",
    "x_train = data[:-num_validation_samples]\n",
    "y_train = labels[:-num_validation_samples]\n",
    "x_val = data[-num_validation_samples:]\n",
    "y_val = labels[-num_validation_samples:]"
   ]
  },
  {
   "cell_type": "code",
   "execution_count": 9,
   "metadata": {},
   "outputs": [],
   "source": [
    "# 准备 embedding matrix\n",
    "\n",
    "num_words = min(MAX_NUM_WORDS, len(word_index) + 1)\n",
    "embedding_matrix = np.zeros((num_words, EMBEDDING_DIM))\n",
    "for word, i in word_index.items():\n",
    "    if i >= MAX_NUM_WORDS:\n",
    "        continue\n",
    "    embedding_vector = embeddings_index.get(word)\n",
    "    if embedding_vector is not None:\n",
    "        # 不在 embedding index 的单词为零矩阵\n",
    "        embedding_matrix[i] = embedding_vector"
   ]
  },
  {
   "cell_type": "code",
   "execution_count": 10,
   "metadata": {},
   "outputs": [],
   "source": [
    "# 将预先训练的单词嵌入加载到嵌入层\n",
    "# 设置 trainable = False 以便保持嵌入固定\n",
    "\n",
    "embedding_layer = Embedding(num_words,\n",
    "                            EMBEDDING_DIM,\n",
    "                            weights=[embedding_matrix],\n",
    "                            input_length=MAX_SEQUENCE_LENGTH,\n",
    "                            trainable=False)"
   ]
  },
  {
   "cell_type": "code",
   "execution_count": 11,
   "metadata": {},
   "outputs": [
    {
     "name": "stdout",
     "output_type": "stream",
     "text": [
      "Train on 15077 samples, validate on 3769 samples\n",
      "Epoch 1/10\n",
      "15077/15077 [==============================] - 17s 1ms/step - loss: 2.3221 - acc: 0.2377 - val_loss: 1.6946 - val_acc: 0.4081\n",
      "Epoch 2/10\n",
      "15077/15077 [==============================] - 13s 853us/step - loss: 1.1738 - acc: 0.5960 - val_loss: 0.9325 - val_acc: 0.6943\n",
      "Epoch 3/10\n",
      "15077/15077 [==============================] - 13s 859us/step - loss: 0.7337 - acc: 0.7577 - val_loss: 0.7084 - val_acc: 0.7663\n",
      "Epoch 4/10\n",
      "15077/15077 [==============================] - 13s 859us/step - loss: 0.4859 - acc: 0.8437 - val_loss: 0.5483 - val_acc: 0.8352\n",
      "Epoch 5/10\n",
      "15077/15077 [==============================] - 13s 860us/step - loss: 0.3283 - acc: 0.8959 - val_loss: 0.6343 - val_acc: 0.8175\n",
      "Epoch 6/10\n",
      "15077/15077 [==============================] - 13s 859us/step - loss: 0.2231 - acc: 0.9325 - val_loss: 1.3678 - val_acc: 0.6912\n",
      "Epoch 7/10\n",
      "15077/15077 [==============================] - 13s 861us/step - loss: 0.1542 - acc: 0.9528 - val_loss: 0.5512 - val_acc: 0.8562\n",
      "Epoch 8/10\n",
      "15077/15077 [==============================] - 13s 863us/step - loss: 0.1206 - acc: 0.9639 - val_loss: 0.5409 - val_acc: 0.8729\n",
      "Epoch 9/10\n",
      "15077/15077 [==============================] - 13s 861us/step - loss: 0.0811 - acc: 0.9761 - val_loss: 0.6923 - val_acc: 0.8421\n",
      "Epoch 10/10\n",
      "15077/15077 [==============================] - 13s 863us/step - loss: 0.0811 - acc: 0.9784 - val_loss: 0.5571 - val_acc: 0.8740\n",
      "\n",
      "Total time cost: 2.24 minutes\n"
     ]
    }
   ],
   "source": [
    "start_time = time.time()\n",
    "\n",
    "sequence_input = Input(shape=(MAX_SEQUENCE_LENGTH,), dtype='int32')\n",
    "embedded_sequences = embedding_layer(sequence_input)\n",
    "x = Conv1D(128, 5, activation='relu')(embedded_sequences)\n",
    "x = MaxPooling1D(5)(x)\n",
    "x = Conv1D(128, 5, activation='relu')(x)\n",
    "x = MaxPooling1D(5)(x)\n",
    "x = Conv1D(128, 5, activation='relu')(x)\n",
    "x = GlobalMaxPooling1D()(x)\n",
    "x = Dense(128, activation='relu')(x)\n",
    "\n",
    "# 20 newsgroups 有 20 个种类\n",
    "preds = Dense(20, activation='softmax')(x)\n",
    "\n",
    "model = Model(sequence_input, preds)\n",
    "model.compile(loss='categorical_crossentropy',\n",
    "              optimizer='rmsprop',\n",
    "              metrics=['acc'])\n",
    "\n",
    "model.fit(x_train, y_train,\n",
    "          batch_size=128,\n",
    "          epochs=10,\n",
    "          validation_data=(x_val, y_val))\n",
    "\n",
    "end_time = time.time()\n",
    "print(\"\\nTotal time cost: {:.2f} minutes\".format((end_time - start_time) / 60))"
   ]
  },
  {
   "cell_type": "code",
   "execution_count": null,
   "metadata": {},
   "outputs": [],
   "source": []
  }
 ],
 "metadata": {
  "anaconda-cloud": {},
  "kernelspec": {
   "display_name": "Environment (conda_tensorflow_p36)",
   "language": "python",
   "name": "conda_tensorflow_p36"
  },
  "language_info": {
   "codemirror_mode": {
    "name": "ipython",
    "version": 3
   },
   "file_extension": ".py",
   "mimetype": "text/x-python",
   "name": "python",
   "nbconvert_exporter": "python",
   "pygments_lexer": "ipython3",
   "version": "3.6.4"
  }
 },
 "nbformat": 4,
 "nbformat_minor": 2
}
